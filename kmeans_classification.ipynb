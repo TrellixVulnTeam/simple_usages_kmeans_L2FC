{
 "cells": [
  {
   "cell_type": "markdown",
   "id": "8dbf7ad0-f53c-4813-af5e-3ffda90a4af2",
   "metadata": {},
   "source": [
    "# Describe data\n",
    "\n",
    "We use the iris dataset for create a classifier for indentify the class of flower. Firstly, we use the Kmeans for create some clusters and identify the species of flowers. After, we will use the target provided by dataset and compare the results."
   ]
  },
  {
   "cell_type": "code",
   "execution_count": 1,
   "id": "5d2eb97d-58af-4955-863d-53c19889487c",
   "metadata": {},
   "outputs": [],
   "source": [
    "from sklearn.datasets import load_iris\n",
    "\n",
    "iris = load_iris()"
   ]
  },
  {
   "cell_type": "code",
   "execution_count": 2,
   "id": "e0bc762a-292a-4e15-96ba-15cc132f0313",
   "metadata": {},
   "outputs": [],
   "source": [
    "import pandas as pd\n",
    "import numpy as np"
   ]
  },
  {
   "cell_type": "code",
   "execution_count": 3,
   "id": "39a423a0-624c-4503-8e0c-439b562d8f59",
   "metadata": {},
   "outputs": [],
   "source": [
    "data = pd.DataFrame(data=iris.data, columns=iris.feature_names)"
   ]
  },
  {
   "cell_type": "code",
   "execution_count": 4,
   "id": "ba05a2d0-aaf0-40fc-a2f7-da0094ca43ba",
   "metadata": {},
   "outputs": [],
   "source": [
    "data.rename({'sepal length (cm)': 'sepal_length', \n",
    "           'sepal width (cm)': 'sepal_width', \n",
    "           'petal length (cm)': 'petal_length', \n",
    "           'petal width (cm)': 'petal_width'}, \n",
    "          axis=1, inplace=True)"
   ]
  },
  {
   "cell_type": "code",
   "execution_count": 5,
   "id": "a561c3e5-d1c4-4f1e-88b0-c498f69cbe2d",
   "metadata": {},
   "outputs": [],
   "source": [
    "df = data.copy()"
   ]
  },
  {
   "cell_type": "code",
   "execution_count": 6,
   "id": "83500d0d-e3e8-42f6-b300-8b88697043ec",
   "metadata": {},
   "outputs": [
    {
     "data": {
      "text/html": [
       "<div>\n",
       "<style scoped>\n",
       "    .dataframe tbody tr th:only-of-type {\n",
       "        vertical-align: middle;\n",
       "    }\n",
       "\n",
       "    .dataframe tbody tr th {\n",
       "        vertical-align: top;\n",
       "    }\n",
       "\n",
       "    .dataframe thead th {\n",
       "        text-align: right;\n",
       "    }\n",
       "</style>\n",
       "<table border=\"1\" class=\"dataframe\">\n",
       "  <thead>\n",
       "    <tr style=\"text-align: right;\">\n",
       "      <th></th>\n",
       "      <th>sepal_length</th>\n",
       "      <th>sepal_width</th>\n",
       "      <th>petal_length</th>\n",
       "      <th>petal_width</th>\n",
       "    </tr>\n",
       "  </thead>\n",
       "  <tbody>\n",
       "    <tr>\n",
       "      <th>0</th>\n",
       "      <td>5.1</td>\n",
       "      <td>3.5</td>\n",
       "      <td>1.4</td>\n",
       "      <td>0.2</td>\n",
       "    </tr>\n",
       "    <tr>\n",
       "      <th>1</th>\n",
       "      <td>4.9</td>\n",
       "      <td>3.0</td>\n",
       "      <td>1.4</td>\n",
       "      <td>0.2</td>\n",
       "    </tr>\n",
       "    <tr>\n",
       "      <th>2</th>\n",
       "      <td>4.7</td>\n",
       "      <td>3.2</td>\n",
       "      <td>1.3</td>\n",
       "      <td>0.2</td>\n",
       "    </tr>\n",
       "    <tr>\n",
       "      <th>3</th>\n",
       "      <td>4.6</td>\n",
       "      <td>3.1</td>\n",
       "      <td>1.5</td>\n",
       "      <td>0.2</td>\n",
       "    </tr>\n",
       "    <tr>\n",
       "      <th>4</th>\n",
       "      <td>5.0</td>\n",
       "      <td>3.6</td>\n",
       "      <td>1.4</td>\n",
       "      <td>0.2</td>\n",
       "    </tr>\n",
       "    <tr>\n",
       "      <th>...</th>\n",
       "      <td>...</td>\n",
       "      <td>...</td>\n",
       "      <td>...</td>\n",
       "      <td>...</td>\n",
       "    </tr>\n",
       "    <tr>\n",
       "      <th>145</th>\n",
       "      <td>6.7</td>\n",
       "      <td>3.0</td>\n",
       "      <td>5.2</td>\n",
       "      <td>2.3</td>\n",
       "    </tr>\n",
       "    <tr>\n",
       "      <th>146</th>\n",
       "      <td>6.3</td>\n",
       "      <td>2.5</td>\n",
       "      <td>5.0</td>\n",
       "      <td>1.9</td>\n",
       "    </tr>\n",
       "    <tr>\n",
       "      <th>147</th>\n",
       "      <td>6.5</td>\n",
       "      <td>3.0</td>\n",
       "      <td>5.2</td>\n",
       "      <td>2.0</td>\n",
       "    </tr>\n",
       "    <tr>\n",
       "      <th>148</th>\n",
       "      <td>6.2</td>\n",
       "      <td>3.4</td>\n",
       "      <td>5.4</td>\n",
       "      <td>2.3</td>\n",
       "    </tr>\n",
       "    <tr>\n",
       "      <th>149</th>\n",
       "      <td>5.9</td>\n",
       "      <td>3.0</td>\n",
       "      <td>5.1</td>\n",
       "      <td>1.8</td>\n",
       "    </tr>\n",
       "  </tbody>\n",
       "</table>\n",
       "<p>150 rows × 4 columns</p>\n",
       "</div>"
      ],
      "text/plain": [
       "     sepal_length  sepal_width  petal_length  petal_width\n",
       "0             5.1          3.5           1.4          0.2\n",
       "1             4.9          3.0           1.4          0.2\n",
       "2             4.7          3.2           1.3          0.2\n",
       "3             4.6          3.1           1.5          0.2\n",
       "4             5.0          3.6           1.4          0.2\n",
       "..            ...          ...           ...          ...\n",
       "145           6.7          3.0           5.2          2.3\n",
       "146           6.3          2.5           5.0          1.9\n",
       "147           6.5          3.0           5.2          2.0\n",
       "148           6.2          3.4           5.4          2.3\n",
       "149           5.9          3.0           5.1          1.8\n",
       "\n",
       "[150 rows x 4 columns]"
      ]
     },
     "execution_count": 6,
     "metadata": {},
     "output_type": "execute_result"
    }
   ],
   "source": [
    "df"
   ]
  },
  {
   "cell_type": "code",
   "execution_count": 7,
   "id": "6d90d480-7392-4bac-922f-5f5e770dc290",
   "metadata": {},
   "outputs": [],
   "source": [
    "import matplotlib.pyplot as plt\n",
    "import seaborn as sns"
   ]
  },
  {
   "cell_type": "code",
   "execution_count": 8,
   "id": "85897b97-af2b-43c1-9869-06c2a74dcd3b",
   "metadata": {},
   "outputs": [
    {
     "data": {
      "image/png": "[encoded data removed]",
      "text/plain": [
       "<Figure size 864x288 with 2 Axes>"
      ]
     },
     "metadata": {
      "needs_background": "light"
     },
     "output_type": "display_data"
    }
   ],
   "source": [
    "fig, axes = plt.subplots(1, 2, figsize=(12, 4))\n",
    "sns.scatterplot(data=df, x='petal_length', y='petal_width', ax=axes[0]);\n",
    "sns.scatterplot(data=df, x='sepal_length', y='sepal_width', ax=axes[1]);"
   ]
  },
  {
   "cell_type": "code",
   "execution_count": 9,
   "id": "966802e0-de98-41cd-b4ec-3c86e78d88e3",
   "metadata": {},
   "outputs": [],
   "source": [
    "from sklearn.model_selection import train_test_split\n",
    "\n",
    "df_train, df_test = train_test_split(df, test_size=0.2)"
   ]
  },
  {
   "cell_type": "markdown",
   "id": "4bf7ced7-6af3-4968-aef9-b3438879b494",
   "metadata": {},
   "source": [
    "## KMeans"
   ]
  },
  {
   "cell_type": "code",
   "execution_count": 10,
   "id": "9de10013-a2c0-4219-b95f-09caaa002e06",
   "metadata": {},
   "outputs": [
    {
     "data": {
      "text/plain": [
       "array([2, 0, 1, 1, 0, 1, 0, 2, 0, 2, 0, 2, 2, 2, 1, 0, 2, 2, 0, 1, 0, 2,\n",
       "       1, 1, 2, 2, 0, 0, 2, 1, 0, 2, 1, 2, 2, 2, 2, 2, 2, 2, 1, 2, 2, 0,\n",
       "       2, 1, 2, 1, 2, 1, 0, 1, 0, 2, 1, 2, 0, 0, 1, 0, 0, 1, 0, 1, 2, 2,\n",
       "       1, 2, 0, 0, 1, 0, 1, 0, 1, 1, 2, 0, 0, 1, 2, 2, 2, 2, 2, 0, 0, 1,\n",
       "       2, 0, 0, 2, 2, 2, 1, 2, 0, 1, 2, 1, 1, 0, 1, 2, 2, 1, 1, 1, 2, 2,\n",
       "       2, 1, 2, 2, 0, 1, 2, 1, 1, 1])"
      ]
     },
     "execution_count": 10,
     "metadata": {},
     "output_type": "execute_result"
    }
   ],
   "source": [
    "from sklearn.cluster import KMeans\n",
    "\n",
    "k = 3\n",
    "\n",
    "cluster = KMeans(n_clusters = k)\n",
    "\n",
    "y_pred = cluster.fit_predict(df_train)\n",
    "\n",
    "y_pred"
   ]
  },
  {
   "cell_type": "code",
   "execution_count": 11,
   "id": "9493b728-f389-49da-9c1a-e67e0a0d15bc",
   "metadata": {},
   "outputs": [],
   "source": [
    "df_train['target'] = y_pred"
   ]
  },
  {
   "cell_type": "code",
   "execution_count": 12,
   "id": "d2bc0912-3a35-4b7a-a9db-84dbc239439e",
   "metadata": {},
   "outputs": [
    {
     "data": {
      "image/png": "[encoded data removed]",
      "text/plain": [
       "<Figure size 864x288 with 2 Axes>"
      ]
     },
     "metadata": {
      "needs_background": "light"
     },
     "output_type": "display_data"
    }
   ],
   "source": [
    "fig, axes = plt.subplots(1, 2, figsize=(12, 4))\n",
    "sns.scatterplot(data=df_train, x='petal_length', y='petal_width', hue='target', ax=axes[0]);\n",
    "sns.scatterplot(data=df_train, x='sepal_length', y='sepal_width', hue='target', ax=axes[1]);"
   ]
  },
  {
   "cell_type": "code",
   "execution_count": 13,
   "id": "5ce3c429-d7ea-41f9-9a1d-b5e26387a049",
   "metadata": {},
   "outputs": [
    {
     "name": "stdout",
     "output_type": "stream",
     "text": [
      "[2, 3, 4, 5, 6, 7, 8, 9, 10] [196.42174999999997, 58.2927822368421, 44.73225756151743, 35.36438824333561, 30.520985814185806, 26.895653923853924, 24.534536130536132, 22.43283130692836, 20.86470300124712]\n"
     ]
    }
   ],
   "source": [
    "k_list = list(range(2, 11))\n",
    "inertia_list = []\n",
    "\n",
    "for k in k_list:    \n",
    "    kmeans = KMeans(n_clusters=k)\n",
    "    kmeans.fit(df_train)\n",
    "    inertia = kmeans.inertia_\n",
    "    inertia_list.append(inertia)\n",
    "    \n",
    "print(k_list, inertia_list)"
   ]
  },
  {
   "cell_type": "code",
   "execution_count": 14,
   "id": "ffa04bf0-86a4-413c-a70c-782666235faf",
   "metadata": {},
   "outputs": [
    {
     "data": {
      "image/png": "[encoded data removed]",
      "text/plain": [
       "<Figure size 432x288 with 1 Axes>"
      ]
     },
     "metadata": {
      "needs_background": "light"
     },
     "output_type": "display_data"
    }
   ],
   "source": [
    "plt.plot(k_list, inertia_list)\n",
    "plt.scatter(k_list, inertia_list)\n",
    "plt.xlabel('K')\n",
    "plt.ylabel('Inertia')\n",
    "plt.title('Elbow curve');"
   ]
  },
  {
   "cell_type": "markdown",
   "id": "d8156604-61ff-4097-b7a6-d3ddd7fd64aa",
   "metadata": {},
   "source": [
    "The elbow curve show that the best value of K is 3. That is obviously, according the iris dataset."
   ]
  },
  {
   "cell_type": "markdown",
   "id": "aafba021-384c-452e-950f-b7482ef1713b",
   "metadata": {},
   "source": [
    "# Classifier\n",
    "\n",
    "We will use the decision tree algorith for make the classifier for this dataset."
   ]
  },
  {
   "cell_type": "code",
   "execution_count": 15,
   "id": "e3a4035f-5c3b-4ca5-8e2b-411450f2160d",
   "metadata": {},
   "outputs": [],
   "source": [
    "x_train = df_train.drop('target', axis=1)\n",
    "y_train = df_train['target']"
   ]
  },
  {
   "cell_type": "code",
   "execution_count": 16,
   "id": "4b0774ab-a659-41fb-907a-eb0c58c6dd55",
   "metadata": {},
   "outputs": [
    {
     "data": {
      "text/plain": [
       "array([2, 0, 1, 1, 0, 1, 0, 2, 0, 2, 0, 2, 2, 2, 1, 0, 2, 2, 0, 1, 0, 2,\n",
       "       1, 1, 2, 2, 0, 0, 2, 1, 0, 2, 1, 2, 2, 2, 2, 2, 2, 2, 1, 2, 2, 0,\n",
       "       2, 1, 2, 1, 2, 1, 0, 1, 0, 2, 1, 2, 0, 0, 1, 0, 0, 1, 0, 1, 2, 2,\n",
       "       1, 2, 0, 0, 1, 0, 1, 0, 1, 1, 2, 0, 0, 1, 2, 2, 2, 2, 2, 0, 0, 1,\n",
       "       2, 0, 0, 2, 2, 2, 1, 2, 0, 1, 2, 1, 1, 0, 1, 2, 2, 1, 1, 1, 2, 2,\n",
       "       2, 1, 2, 2, 0, 1, 2, 1, 1, 1])"
      ]
     },
     "execution_count": 16,
     "metadata": {},
     "output_type": "execute_result"
    }
   ],
   "source": [
    "from sklearn.tree import DecisionTreeClassifier\n",
    "\n",
    "classifier = DecisionTreeClassifier()\n",
    "\n",
    "classifier.fit(x_train, y_train)\n",
    "\n",
    "y_pred_train = classifier.predict(x_train)\n",
    "y_pred_train"
   ]
  },
  {
   "cell_type": "code",
   "execution_count": 17,
   "id": "962ad940-edda-4901-a2db-12d8e03ab7c3",
   "metadata": {},
   "outputs": [
    {
     "name": "stdout",
     "output_type": "stream",
     "text": [
      "acc train: 1.0\n"
     ]
    }
   ],
   "source": [
    "from sklearn import metrics\n",
    "\n",
    "print('acc train:', round(metrics.accuracy_score(y_train, y_pred_train), 3))"
   ]
  },
  {
   "cell_type": "markdown",
   "id": "dea3677f-f628-452f-a5dc-0e3120e49ac2",
   "metadata": {},
   "source": [
    "**The results sugest that exist on overfitting in the model. We can change the max_depth of tree for avoid this behaviour**"
   ]
  },
  {
   "cell_type": "markdown",
   "id": "a5009809-8424-444b-875e-de0237bf6c9b",
   "metadata": {},
   "source": [
    "## Cross validation"
   ]
  },
  {
   "cell_type": "code",
   "execution_count": 18,
   "id": "bb67f86b-5f81-4039-b731-a41d4e108f96",
   "metadata": {},
   "outputs": [],
   "source": [
    "from sklearn.model_selection import cross_val_score\n",
    "\n",
    "scores = cross_val_score(classifier, x_train, y_train, cv=5, scoring='accuracy')"
   ]
  },
  {
   "cell_type": "code",
   "execution_count": 19,
   "id": "8811449d-e245-47a2-8f34-6fadcdde857f",
   "metadata": {},
   "outputs": [],
   "source": [
    "def display_scores(scores):\n",
    "    print('Scores:', scores)\n",
    "    print('Mean:', round(scores.mean(), 3))\n",
    "    print('Std:', round(scores.std(), 3))"
   ]
  },
  {
   "cell_type": "code",
   "execution_count": 20,
   "id": "873e87d8-4442-4b6a-8157-09a87ca2a874",
   "metadata": {},
   "outputs": [
    {
     "name": "stdout",
     "output_type": "stream",
     "text": [
      "Scores: [0.95833333 0.91666667 1.         1.         1.        ]\n",
      "Mean: 0.975\n",
      "Std: 0.033\n"
     ]
    }
   ],
   "source": [
    "display_scores(scores)"
   ]
  },
  {
   "cell_type": "markdown",
   "id": "b52faf76-edea-40e5-af65-6724515c1381",
   "metadata": {},
   "source": [
    "## Change the depth of tree"
   ]
  },
  {
   "cell_type": "code",
   "execution_count": 21,
   "id": "684ccead-53e3-41e0-b7da-b9256ab2c325",
   "metadata": {},
   "outputs": [
    {
     "data": {
      "image/png": "[encoded data removed]",
      "text/plain": [
       "<Figure size 576x396 with 1 Axes>"
      ]
     },
     "metadata": {},
     "output_type": "display_data"
    }
   ],
   "source": [
    "param_range = list(range(2, 11))\n",
    "\n",
    "from yellowbrick.model_selection import ValidationCurve\n",
    "\n",
    "val_curve = ValidationCurve(classifier, param_name='max_depth', scoring='accuracy', param_range=param_range, cv=5)\n",
    "val_curve.fit(x_train, y_train)\n",
    "val_curve.poof();"
   ]
  },
  {
   "cell_type": "markdown",
   "id": "ebb82db1-114f-404a-b3fd-356944e82de4",
   "metadata": {},
   "source": [
    "The best value of max_depth is 2."
   ]
  },
  {
   "cell_type": "markdown",
   "id": "7d2404ad-bada-49bf-ae30-f48f8ca7045a",
   "metadata": {},
   "source": [
    "## New Classifier"
   ]
  },
  {
   "cell_type": "code",
   "execution_count": 22,
   "id": "98c3f42c-984e-4de7-a31e-6c4d1057c76b",
   "metadata": {},
   "outputs": [],
   "source": [
    "classifier_v1 = DecisionTreeClassifier(max_depth=2)\n",
    "\n",
    "classifier_v1.fit(x_train, y_train)\n",
    "\n",
    "y_pred_train_v1 = classifier_v1.predict(x_train)"
   ]
  },
  {
   "cell_type": "code",
   "execution_count": 23,
   "id": "12f2b72a-0458-4c4b-96ce-73b7a7e0706a",
   "metadata": {},
   "outputs": [
    {
     "name": "stdout",
     "output_type": "stream",
     "text": [
      "Auc train: 0.967\n"
     ]
    }
   ],
   "source": [
    "from sklearn import metrics\n",
    "\n",
    "print('Auc train:', round(metrics.accuracy_score(y_train, y_pred_train_v1), 3))"
   ]
  },
  {
   "cell_type": "markdown",
   "id": "9a967293-b0f2-4b00-822c-56fa314ea83a",
   "metadata": {},
   "source": [
    "## Cross validation"
   ]
  },
  {
   "cell_type": "code",
   "execution_count": 24,
   "id": "aec21ea6-3724-414e-adf6-e29764b0a764",
   "metadata": {},
   "outputs": [],
   "source": [
    "from sklearn.model_selection import cross_val_score\n",
    "\n",
    "scores_v1 = cross_val_score(classifier_v1, x_train, y_train, cv=5, scoring='accuracy')"
   ]
  },
  {
   "cell_type": "code",
   "execution_count": 25,
   "id": "5fdca087-55fc-4b01-b59b-e8129a55629a",
   "metadata": {},
   "outputs": [
    {
     "name": "stdout",
     "output_type": "stream",
     "text": [
      "Scores: [0.95833333 0.91666667 1.         1.         0.91666667]\n",
      "Mean: 0.958\n",
      "Std: 0.037\n"
     ]
    }
   ],
   "source": [
    "display_scores(scores_v1)"
   ]
  },
  {
   "cell_type": "markdown",
   "id": "802943f8-a3f0-47bc-96e3-c8d37641a745",
   "metadata": {},
   "source": [
    "# Training model with the original target (without kmeans)"
   ]
  },
  {
   "cell_type": "code",
   "execution_count": 26,
   "id": "8cf8d5da-ecd0-4fd0-86eb-0c46c5e9b2bf",
   "metadata": {},
   "outputs": [],
   "source": [
    "df2 = data.copy()"
   ]
  },
  {
   "cell_type": "code",
   "execution_count": 27,
   "id": "a9f11e45-f909-4b9b-8fcd-4593b58f2bca",
   "metadata": {},
   "outputs": [],
   "source": [
    "df2['target'] = iris.target"
   ]
  },
  {
   "cell_type": "code",
   "execution_count": 28,
   "id": "c319d848-b328-46fb-b09c-a29b0d2ba80e",
   "metadata": {},
   "outputs": [],
   "source": [
    "x2 = df2.drop('target', axis=1)\n",
    "y2 = df2['target']\n",
    "\n",
    "x2_train, x2_test, y2_train, y2_test = train_test_split(x2, y2, test_size=0.2)"
   ]
  },
  {
   "cell_type": "code",
   "execution_count": 29,
   "id": "1f434aca-019c-44b0-a3c5-e706bd100f8d",
   "metadata": {},
   "outputs": [],
   "source": [
    "classifier_v2 = DecisionTreeClassifier(max_depth=2)\n",
    "\n",
    "classifier_v2.fit(x2_train, y2_train)\n",
    "\n",
    "y_pred_train_v2 = classifier_v2.predict(x2_train)"
   ]
  },
  {
   "cell_type": "code",
   "execution_count": 30,
   "id": "9eb8bdd5-e779-44bd-9c34-15921fc27efe",
   "metadata": {},
   "outputs": [
    {
     "name": "stdout",
     "output_type": "stream",
     "text": [
      "Auc train: 0.992\n"
     ]
    }
   ],
   "source": [
    "from sklearn import metrics\n",
    "\n",
    "print('Auc train:', round(metrics.accuracy_score(y2_train, y_pred_train_v2), 3))"
   ]
  },
  {
   "cell_type": "markdown",
   "id": "caeb0011-de51-4498-b58d-544764fd94a5",
   "metadata": {},
   "source": [
    "## Cross validation"
   ]
  },
  {
   "cell_type": "code",
   "execution_count": 31,
   "id": "693e7431-4024-43e0-a845-11db13acebb9",
   "metadata": {},
   "outputs": [],
   "source": [
    "scores_v2 = cross_val_score(classifier_v2, x2_train, y2_train, cv=5, scoring='accuracy')"
   ]
  },
  {
   "cell_type": "code",
   "execution_count": 32,
   "id": "3e0e0c39-0a9b-4ab9-b7c4-dfbb20b7402e",
   "metadata": {},
   "outputs": [
    {
     "name": "stdout",
     "output_type": "stream",
     "text": [
      "Scores: [1.         1.         0.95833333 0.875      1.        ]\n",
      "Mean: 0.967\n",
      "Std: 0.049\n"
     ]
    }
   ],
   "source": [
    "display_scores(scores_v2)"
   ]
  },
  {
   "cell_type": "markdown",
   "id": "14bbcc7a-7736-4ee6-967d-79075b50c4f4",
   "metadata": {},
   "source": [
    "# Results"
   ]
  },
  {
   "cell_type": "code",
   "execution_count": 34,
   "id": "d9688bb1-0b04-4d07-a63d-f6211497217d",
   "metadata": {},
   "outputs": [
    {
     "data": {
      "text/html": [
       "<div>\n",
       "<style scoped>\n",
       "    .dataframe tbody tr th:only-of-type {\n",
       "        vertical-align: middle;\n",
       "    }\n",
       "\n",
       "    .dataframe tbody tr th {\n",
       "        vertical-align: top;\n",
       "    }\n",
       "\n",
       "    .dataframe thead th {\n",
       "        text-align: right;\n",
       "    }\n",
       "</style>\n",
       "<table border=\"1\" class=\"dataframe\">\n",
       "  <thead>\n",
       "    <tr style=\"text-align: right;\">\n",
       "      <th></th>\n",
       "      <th>model</th>\n",
       "      <th>type</th>\n",
       "      <th>mean scores</th>\n",
       "      <th>std scores</th>\n",
       "    </tr>\n",
       "  </thead>\n",
       "  <tbody>\n",
       "    <tr>\n",
       "      <th>0</th>\n",
       "      <td>tree</td>\n",
       "      <td>kmeans</td>\n",
       "      <td>0.975000</td>\n",
       "      <td>0.033333</td>\n",
       "    </tr>\n",
       "    <tr>\n",
       "      <th>1</th>\n",
       "      <td>tree (max_depth=2)</td>\n",
       "      <td>kmeans</td>\n",
       "      <td>0.958333</td>\n",
       "      <td>0.037268</td>\n",
       "    </tr>\n",
       "    <tr>\n",
       "      <th>2</th>\n",
       "      <td>tree (max_depth=2)</td>\n",
       "      <td>original</td>\n",
       "      <td>0.966667</td>\n",
       "      <td>0.048591</td>\n",
       "    </tr>\n",
       "  </tbody>\n",
       "</table>\n",
       "</div>"
      ],
      "text/plain": [
       "                model      type  mean scores  std scores\n",
       "0                tree    kmeans     0.975000    0.033333\n",
       "1  tree (max_depth=2)    kmeans     0.958333    0.037268\n",
       "2  tree (max_depth=2)  original     0.966667    0.048591"
      ]
     },
     "execution_count": 34,
     "metadata": {},
     "output_type": "execute_result"
    }
   ],
   "source": [
    "results = {'model': ['tree', 'tree (max_depth=2)', 'tree (max_depth=2)'], \n",
    "           'type': ['kmeans', 'kmeans', 'original'], \n",
    "          'mean scores': [scores.mean(), scores_v1.mean(), scores_v2.mean()],\n",
    "          'std scores': [scores.std(), scores_v1.std(), scores_v2.std()]}\n",
    "\n",
    "results_data = pd.DataFrame(results)\n",
    "results_data"
   ]
  },
  {
   "cell_type": "markdown",
   "id": "f48425cb-4a27-49d5-9c35-3921f695497a",
   "metadata": {},
   "source": [
    "The classifier with kmeans have the good performance when compared with the classifier with original data. The mean of kmeans score is practically the same of the original data, but, the difference is on the standard deviation. This table shows that the kmeans algorith is one very good approach for segmentation of data in clusters."
   ]
  },
  {
   "cell_type": "code",
   "execution_count": 43,
   "id": "44dd4657-a3ad-41d4-9214-b51e0b85a60f",
   "metadata": {},
   "outputs": [
    {
     "data": {
      "image/png": "[encoded data removed]",
      "text/plain": [
       "<Figure size 864x288 with 2 Axes>"
      ]
     },
     "metadata": {},
     "output_type": "display_data"
    }
   ],
   "source": [
    "fig, axes = plt.subplots(1, 2, figsize=(12, 4))\n",
    "sns.scatterplot(data=df_train, x='petal_length', y='petal_width', hue='target', ax=axes[0])\n",
    "sns.scatterplot(data=x2_train, x='petal_length', y='petal_width', hue=y2_train, ax=axes[1]);"
   ]
  },
  {
   "cell_type": "markdown",
   "id": "fe0b407c-fa3e-4de5-84b5-d79eb0005c09",
   "metadata": {},
   "source": [
    "The first graph was plotted with data with kmeans algorith, while the second graph was plotted with the original data. This is other evidence that the kmeans clusterings has a good performance of create a separation of data."
   ]
  },
  {
   "cell_type": "code",
   "execution_count": null,
   "id": "a30858e3-ac8c-4b31-9dd0-3238ae1ac907",
   "metadata": {},
   "outputs": [],
   "source": []
  }
 ],
 "metadata": {
  "kernelspec": {
   "display_name": "Python 3 (ipykernel)",
   "language": "python",
   "name": "python3"
  },
  "language_info": {
   "codemirror_mode": {
    "name": "ipython",
    "version": 3
   },
   "file_extension": ".py",
   "mimetype": "text/x-python",
   "name": "python",
   "nbconvert_exporter": "python",
   "pygments_lexer": "ipython3",
   "version": "3.8.8"
  }
 },
 "nbformat": 4,
 "nbformat_minor": 5
}
